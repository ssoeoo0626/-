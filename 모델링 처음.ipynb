{
 "cells": [
  {
   "cell_type": "code",
   "execution_count": 33,
   "metadata": {},
   "outputs": [],
   "source": [
    "import pandas as pd \n",
    "\n",
    "df= pd.read_csv('./cagr_merge.csv')\n",
    "df['부채비율']=df['부채비율']/100\n",
    "df['train_cagr(%)']=df['train_cagr(%)']/100\n",
    "df['test_cagr(%)']=df['test_cagr(%)']/100\n",
    "df['CAGR_tr(%)']=df['CAGR_tr(%)']/10000\n",
    "df['자기자본 비율']=df['자기자본 비율']/100\n",
    "df.drop('증권명',axis=1,inplace=True)"
   ]
  },
  {
   "cell_type": "markdown",
   "metadata": {},
   "source": [
    "부채비율/100\n",
    "자기자본비율/100\n",
    "train_cagr(%)/100\n",
    "test_cagr(%)/100\n",
    "CAGR_tr(%)/10000"
   ]
  },
  {
   "cell_type": "code",
   "execution_count": 34,
   "metadata": {},
   "outputs": [
    {
     "data": {
      "text/plain": [
       "Index(['회사명', '거래소코드', '회계년도', 'ROE', 'ROIC', 'OPEX/매출', '잉여현금흐름', 'Buffett',\n",
       "       'ROCE', '자사주매입1', '자사주매입2', '주주환원1', '주주환원2', '배당율', '보통주식비율', '연도',\n",
       "       '평가사명 및 등급', '신용등급', '자산총계', '부채비율', '당좌비율', '유동비율', '자기자본 비율',\n",
       "       '재무레버리지', '신용스프레드', 'train_cagr(%)', 'test_cagr(%)', 'CAGR_tr(%)'],\n",
       "      dtype='object')"
      ]
     },
     "execution_count": 34,
     "metadata": {},
     "output_type": "execute_result"
    }
   ],
   "source": [
    "df.columns"
   ]
  },
  {
   "cell_type": "code",
   "execution_count": 35,
   "metadata": {},
   "outputs": [],
   "source": [
    "df = df.drop('자산총계', axis=1)"
   ]
  },
  {
   "cell_type": "code",
   "execution_count": 36,
   "metadata": {},
   "outputs": [],
   "source": [
    "df['Buffett']= df['Buffett'].astype(str)"
   ]
  },
  {
   "cell_type": "code",
   "execution_count": 37,
   "metadata": {},
   "outputs": [],
   "source": [
    "from sklearn.preprocessing import StandardScaler\n",
    "\n",
    "# StandardScaler 객체 생성\n",
    "scaler = StandardScaler()\n",
    "\n",
    "# 특정 feature에 대한 통계 정보 계산하고 동시에 데이터 스케일링\n",
    "df[['신용스프레드', '잉여현금흐름', 'Buffett','부채비율','유동비율']] = scaler.fit_transform(df[['신용스프레드', '잉여현금흐름', 'Buffett','부채비율','유동비율']])"
   ]
  },
  {
   "cell_type": "code",
   "execution_count": 38,
   "metadata": {},
   "outputs": [
    {
     "name": "stdout",
     "output_type": "stream",
     "text": [
      "인코딩 클래스: ['A' 'A+' 'A-' 'AA' 'AA+' 'AA-' 'AAA' 'BBB' 'BBB+' 'BBB-']\n"
     ]
    }
   ],
   "source": [
    "from sklearn.preprocessing import LabelEncoder\n",
    "\n",
    "encoder = LabelEncoder()\n",
    "encoder.fit(df['신용등급'])\n",
    "df['신용등급'] = encoder.transform(df['신용등급'])\n",
    "\n",
    "print('인코딩 클래스:', encoder.classes_)"
   ]
  },
  {
   "cell_type": "code",
   "execution_count": 39,
   "metadata": {},
   "outputs": [],
   "source": [
    "df['거래소코드']= df['거래소코드'].astype(str)\n",
    "df['거래소코드']= df['거래소코드'].str.zfill(6)"
   ]
  },
  {
   "cell_type": "code",
   "execution_count": 40,
   "metadata": {},
   "outputs": [
    {
     "data": {
      "text/html": [
       "<div>\n",
       "<style scoped>\n",
       "    .dataframe tbody tr th:only-of-type {\n",
       "        vertical-align: middle;\n",
       "    }\n",
       "\n",
       "    .dataframe tbody tr th {\n",
       "        vertical-align: top;\n",
       "    }\n",
       "\n",
       "    .dataframe thead th {\n",
       "        text-align: right;\n",
       "    }\n",
       "</style>\n",
       "<table border=\"1\" class=\"dataframe\">\n",
       "  <thead>\n",
       "    <tr style=\"text-align: right;\">\n",
       "      <th></th>\n",
       "      <th>회사명</th>\n",
       "      <th>거래소코드</th>\n",
       "      <th>회계년도</th>\n",
       "      <th>ROE</th>\n",
       "      <th>ROIC</th>\n",
       "      <th>OPEX/매출</th>\n",
       "      <th>잉여현금흐름</th>\n",
       "      <th>Buffett</th>\n",
       "      <th>ROCE</th>\n",
       "      <th>자사주매입1</th>\n",
       "      <th>...</th>\n",
       "      <th>신용등급</th>\n",
       "      <th>부채비율</th>\n",
       "      <th>당좌비율</th>\n",
       "      <th>유동비율</th>\n",
       "      <th>자기자본 비율</th>\n",
       "      <th>재무레버리지</th>\n",
       "      <th>신용스프레드</th>\n",
       "      <th>train_cagr(%)</th>\n",
       "      <th>test_cagr(%)</th>\n",
       "      <th>CAGR_tr(%)</th>\n",
       "    </tr>\n",
       "  </thead>\n",
       "  <tbody>\n",
       "    <tr>\n",
       "      <th>0</th>\n",
       "      <td>케이알모터스(주)</td>\n",
       "      <td>000040</td>\n",
       "      <td>2010/12</td>\n",
       "      <td>-0.008024</td>\n",
       "      <td>-0.004607</td>\n",
       "      <td>0.099983</td>\n",
       "      <td>-0.033392</td>\n",
       "      <td>-0.076442</td>\n",
       "      <td>0.936112</td>\n",
       "      <td>-0.0</td>\n",
       "      <td>...</td>\n",
       "      <td>9</td>\n",
       "      <td>-0.027656</td>\n",
       "      <td>0.364804</td>\n",
       "      <td>-0.406997</td>\n",
       "      <td>1.0</td>\n",
       "      <td>1.168625</td>\n",
       "      <td>0.798674</td>\n",
       "      <td>-0.072835</td>\n",
       "      <td>-0.2236</td>\n",
       "      <td>0.110019</td>\n",
       "    </tr>\n",
       "    <tr>\n",
       "      <th>1</th>\n",
       "      <td>케이알모터스(주)</td>\n",
       "      <td>000040</td>\n",
       "      <td>2011/12</td>\n",
       "      <td>0.028117</td>\n",
       "      <td>0.017462</td>\n",
       "      <td>0.101558</td>\n",
       "      <td>-0.057740</td>\n",
       "      <td>-0.073527</td>\n",
       "      <td>-0.254909</td>\n",
       "      <td>0.0</td>\n",
       "      <td>...</td>\n",
       "      <td>9</td>\n",
       "      <td>-0.045680</td>\n",
       "      <td>0.236443</td>\n",
       "      <td>-0.319719</td>\n",
       "      <td>1.0</td>\n",
       "      <td>0.939045</td>\n",
       "      <td>0.688429</td>\n",
       "      <td>-0.072835</td>\n",
       "      <td>-0.2236</td>\n",
       "      <td>0.053557</td>\n",
       "    </tr>\n",
       "  </tbody>\n",
       "</table>\n",
       "<p>2 rows × 27 columns</p>\n",
       "</div>"
      ],
      "text/plain": [
       "         회사명   거래소코드     회계년도       ROE      ROIC   OPEX/매출    잉여현금흐름  \\\n",
       "0  케이알모터스(주)  000040  2010/12 -0.008024 -0.004607  0.099983 -0.033392   \n",
       "1  케이알모터스(주)  000040  2011/12  0.028117  0.017462  0.101558 -0.057740   \n",
       "\n",
       "    Buffett      ROCE  자사주매입1  ...  신용등급      부채비율      당좌비율      유동비율  \\\n",
       "0 -0.076442  0.936112    -0.0  ...     9 -0.027656  0.364804 -0.406997   \n",
       "1 -0.073527 -0.254909     0.0  ...     9 -0.045680  0.236443 -0.319719   \n",
       "\n",
       "   자기자본 비율    재무레버리지    신용스프레드  train_cagr(%)  test_cagr(%)  CAGR_tr(%)  \n",
       "0      1.0  1.168625  0.798674      -0.072835       -0.2236    0.110019  \n",
       "1      1.0  0.939045  0.688429      -0.072835       -0.2236    0.053557  \n",
       "\n",
       "[2 rows x 27 columns]"
      ]
     },
     "execution_count": 40,
     "metadata": {},
     "output_type": "execute_result"
    }
   ],
   "source": [
    "df.head(2)"
   ]
  },
  {
   "cell_type": "code",
   "execution_count": 41,
   "metadata": {},
   "outputs": [
    {
     "data": {
      "text/plain": [
       "dtype('float64')"
      ]
     },
     "execution_count": 41,
     "metadata": {},
     "output_type": "execute_result"
    }
   ],
   "source": [
    "df['유동비율'].dtype"
   ]
  },
  {
   "cell_type": "code",
   "execution_count": 42,
   "metadata": {},
   "outputs": [],
   "source": [
    "df['회계년도'] = pd.to_datetime(df['회계년도'])"
   ]
  },
  {
   "cell_type": "code",
   "execution_count": 43,
   "metadata": {},
   "outputs": [],
   "source": [
    "# 17년, 22년 기준으로 CAGR크면 1로 처리.\n",
    "df.loc[(df['회계년도'].dt.year == 2017) & (df['train_cagr(%)'] >= 0.113292), 'label'] = 1\n",
    "df.loc[(df['회계년도'].dt.year == 2022) & (df['test_cagr(%)'] >= 0.07329), 'label'] = 1"
   ]
  },
  {
   "cell_type": "code",
   "execution_count": 44,
   "metadata": {},
   "outputs": [],
   "source": [
    "#트레인,테스트 데이터셋 분리 \n",
    "df_tr = pd.DataFrame()\n",
    "df_test = pd.DataFrame()\n",
    "\n",
    "# 인덱스를 기준으로 8개씩 묶어서 반복\n",
    "for i in range(0, len(df), 13):\n",
    "    # 트레인 데이터 추출\n",
    "    train_batch = df.iloc[i:i+8]\n",
    "    df_tr = pd.concat([df_tr, train_batch])\n",
    "\n",
    "    # 테스트 데이터 추출\n",
    "    test_batch = df.iloc[i+8:i+13]\n",
    "    df_test = pd.concat([df_test, test_batch])\n",
    "\n",
    "df_tr['label']=df_tr['label'].fillna(0)\n",
    "df_test['label']=df_test['label'].fillna(0)"
   ]
  },
  {
   "cell_type": "code",
   "execution_count": 45,
   "metadata": {},
   "outputs": [],
   "source": [
    "existing_row = df_tr.loc[(df_tr['label'] == 1) & (df_tr['회계년도'].dt.year == 2017)]\n",
    "code1=existing_row['거래소코드'].unique()\n",
    "\n",
    "for i in code1:\n",
    "    condition = df_tr['거래소코드'] == i\n",
    "    df_tr.loc[condition, 'label'] = 1\n",
    "\n",
    "#17년도 1이면 10~17 1로처리."
   ]
  },
  {
   "cell_type": "code",
   "execution_count": 46,
   "metadata": {},
   "outputs": [],
   "source": [
    "existing_test = df_test.loc[(df_tr['label'] == 1) & (df_test['회계년도'].dt.year == 2022)]\n",
    "code2=existing_test['거래소코드'].unique()\n",
    "\n",
    "for i in code2:\n",
    "    condition = df_tr['거래소코드'] == i\n",
    "    df_tr.loc[condition, 'label'] = 1\n",
    "\n",
    "#22년도 1이면 18~22 1로처리"
   ]
  },
  {
   "cell_type": "code",
   "execution_count": 67,
   "metadata": {},
   "outputs": [],
   "source": [
    "x_tr=df_tr.drop('label',axis=1)\n",
    "y_tr=df_tr['label']\n",
    "y_tr=y_tr.astype(int)\n",
    "x_test=df_test.drop('label',axis=1)\n",
    "y_test=df_test['label']\n",
    "\n",
    "x_tr.drop(['회사명', '거래소코드', '회계년도','평가사명 및 등급','train_cagr(%)','test_cagr(%)','CAGR_tr(%)','연도'],axis=1,inplace=True)\n",
    "x_test.drop(['회사명', '거래소코드', '회계년도','평가사명 및 등급','train_cagr(%)','test_cagr(%)','CAGR_tr(%)','연도'],axis=1,inplace=True)"
   ]
  },
  {
   "cell_type": "code",
   "execution_count": 48,
   "metadata": {},
   "outputs": [
    {
     "data": {
      "text/plain": [
       "0    2400\n",
       "1     968\n",
       "Name: label, dtype: int64"
      ]
     },
     "execution_count": 48,
     "metadata": {},
     "output_type": "execute_result"
    }
   ],
   "source": [
    "y_tr.value_counts()"
   ]
  },
  {
   "cell_type": "code",
   "execution_count": 74,
   "metadata": {},
   "outputs": [
    {
     "data": {
      "image/png": "[encoded data removed]",
      "text/plain": [
       "<Figure size 1000x600 with 1 Axes>"
      ]
     },
     "metadata": {},
     "output_type": "display_data"
    },
    {
     "name": "stdout",
     "output_type": "stream",
     "text": [
      "0.04838709677419355\n"
     ]
    }
   ],
   "source": [
    "from sklearn.ensemble import RandomForestClassifier\n",
    "import matplotlib.pyplot as plt\n",
    "import numpy as np\n",
    "from sklearn.metrics import precision_score\n",
    "import seaborn as sns\n",
    "plt.rcParams['font.family'] = 'Malgun Gothic'\n",
    "\n",
    "\n",
    "# 예시 데이터 로드\n",
    "\n",
    "X = x_tr\n",
    "y = y_tr\n",
    "\n",
    "# Random Forest 모델 생성\n",
    "model = RandomForestClassifier(n_estimators=100, random_state=42, max_depth=10)\n",
    "model.fit(X, y)\n",
    "\n",
    "# 변수 중요도 확인\n",
    "feature_importances = model.feature_importances_\n",
    "\n",
    "# 중요도를 기준으로 내림차순 정렬\n",
    "indices = np.argsort(feature_importances)[::-1]\n",
    "\n",
    "# 변수 중요도 시각화\n",
    "plt.figure(figsize=(10, 6))\n",
    "ax = sns.barplot(x=feature_importances[indices], y=X.columns[indices]) ## 정확한 수치는 feature_importances[0]으로 뽑아내기 가능함\n",
    "plt.xlabel(\"Feature Importance\")\n",
    "plt.ylabel(\"Feature\")\n",
    "plt.show()\n",
    "\n",
    "pred=model.predict(x_test)\n",
    "print(precision_score(y_test,pred))\n"
   ]
  },
  {
   "cell_type": "code",
   "execution_count": 75,
   "metadata": {},
   "outputs": [
    {
     "name": "stdout",
     "output_type": "stream",
     "text": [
      "Best Hyperparameters: {'C': 0.1, 'penalty': 'l2'}\n",
      "Best Precision: 0.5990909090909091\n",
      "Best Hyperparameters: {'C': 0.1, 'penalty': 'l2'}\n",
      "Best Precision: 0.5826579520697167\n",
      "Best Hyperparameters: {'C': 0.001, 'penalty': 'l2'}\n",
      "Best Precision: 0.2\n",
      "0.1111111111111111\n",
      "0.07407407407407407\n",
      "0.0\n"
     ]
    }
   ],
   "source": [
    "from sklearn.linear_model import LogisticRegression\n",
    "from sklearn.model_selection import GridSearchCV\n",
    "import warnings\n",
    "warnings.filterwarnings(\"ignore\")\n",
    "#내 생각으로는 precision(정밀도)가 정확한 평가방법일거라고 생각. 예상치중 얼마나 잘 맞는가가 중요하므로. \n",
    "\n",
    "alphas=[0.001,0.01,0.1,1,10]\n",
    "grid=GridSearchCV\n",
    "param_grid = {'penalty':['l1','l2','elasticnet'],'C': [0.001, 0.01, 0.1, 1, 10, 100]} #주의. 알파값 역수임. 0.001이면 규제가 쌘거\n",
    "\n",
    "# Logistic Regression 모델 생성\n",
    "logR1= LogisticRegression(solver='liblinear')  #l1,l2 동시 사용가능한거 liblinear혼자, 3개 다 가능한건 saga\n",
    "logR2= LogisticRegression(solver='lbfgs') #그나마 학습값 높게나오는거 요거\n",
    "logR3= LogisticRegression(solver='saga')\n",
    "\n",
    "grid = GridSearchCV(logR1, param_grid, cv=5, scoring='precision') #5번 반복이고, 정밀도로 평가\n",
    "grid2 = GridSearchCV(logR2, param_grid, cv=5, scoring='precision') #5번 반복이고, 정밀도로 평가\n",
    "grid3 = GridSearchCV(logR3, param_grid, cv=5, scoring='precision') #5번 반복이고, 정밀도로 평가\n",
    "\n",
    "# 그리드 서치 수행\n",
    "grid.fit(x_tr, y_tr)\n",
    "grid2.fit(x_tr, y_tr)\n",
    "grid3.fit(x_tr, y_tr)\n",
    "\n",
    "# 최적의 하이퍼파라미터 및 정밀도 출력\n",
    "print(\"Best Hyperparameters:\", grid.best_params_)\n",
    "print(\"Best Precision:\", grid.best_score_)\n",
    "\n",
    "print(\"Best Hyperparameters:\", grid2.best_params_)\n",
    "print(\"Best Precision:\", grid2.best_score_)\n",
    "\n",
    "print(\"Best Hyperparameters:\", grid3.best_params_)\n",
    "print(\"Best Precision:\", grid3.best_score_)\n",
    "\n",
    "\n",
    "# 최적의 모델 얻기\n",
    "best_model = grid.best_estimator_\n",
    "best_model2 = grid2.best_estimator_\n",
    "best_model3 = grid3.best_estimator_\n",
    "\n",
    "pred_l1=best_model.predict(x_test)\n",
    "print(precision_score(y_test,pred_l1))\n",
    "\n",
    "pred_l2=best_model2.predict(x_test)\n",
    "print(precision_score(y_test,pred_l2))\n",
    "\n",
    "pred_l3=best_model3.predict(x_test)\n",
    "print(precision_score(y_test,pred_l3))\n",
    "\n",
    "\n",
    "# # 회귀 계수 출력\n",
    "# coefficients = best_model.coef_\n",
    "# print(\"Coefficients:\", coefficients)\n",
    "\n",
    "# coefficients2 = best_model2.coef_\n",
    "# print(\"Coefficients:\", coefficients2)"
   ]
  },
  {
   "cell_type": "code",
   "execution_count": 76,
   "metadata": {},
   "outputs": [
    {
     "data": {
      "image/png": "[encoded data removed]",
      "text/plain": [
       "<Figure size 1000x600 with 1 Axes>"
      ]
     },
     "metadata": {},
     "output_type": "display_data"
    },
    {
     "data": {
      "image/png": "[encoded data removed]",
      "text/plain": [
       "<Figure size 1000x600 with 1 Axes>"
      ]
     },
     "metadata": {},
     "output_type": "display_data"
    }
   ],
   "source": [
    "import pandas as pd\n",
    "import matplotlib.pyplot as plt\n",
    "\n",
    "\n",
    "# Assuming x_tr is your feature matrix and best_model is the best logistic regression model\n",
    "coefficients = best_model.coef_[0]\n",
    "\n",
    "# Ensure that coefficients is 1-dimensional\n",
    "coefficients = coefficients.flatten()\n",
    "\n",
    "# Create a DataFrame for L1 regularization coefficients\n",
    "l1_param = pd.DataFrame({'Feature': x_tr.columns, 'Coefficient': coefficients})\n",
    "\n",
    "# Plotting the bar plot for L1 regularization\n",
    "plt.figure(figsize=(10, 6))\n",
    "ax = sns.barplot(x='Coefficient', y='Feature', data=l1_param)\n",
    "plt.xlabel(\"Coefficient Value\")\n",
    "plt.ylabel(\"Feature\")\n",
    "plt.title(\"Feature Importance - L1 Regularization\")\n",
    "\n",
    "# 숫자를 막대 위에 표시하는 코드\n",
    "for p in ax.patches:\n",
    "    ax.annotate(f'{p.get_width():.2f}', (p.get_x() + p.get_width(), p.get_y() + p.get_height() / 2),\n",
    "                ha='left', va='center', xytext=(5, 0), textcoords='offset points')\n",
    "\n",
    "plt.show()\n",
    "\n",
    "# Assuming x_tr is your feature matrix and best_model2 is the best logistic regression model with L2 regularization\n",
    "coefficients2 = best_model2.coef_[0]\n",
    "\n",
    "# Ensure that coefficients2 is 1-dimensional\n",
    "coefficients2 = coefficients2.flatten()\n",
    "\n",
    "# Create a DataFrame for L2 regularization coefficients\n",
    "l2_param = pd.DataFrame({'Feature': x_tr.columns, 'Coefficient2': coefficients2})\n",
    "\n",
    "# Plotting the bar plot for L2 regularization\n",
    "plt.figure(figsize=(10, 6))\n",
    "ax2 = sns.barplot(x='Coefficient2', y='Feature', data=l2_param)\n",
    "plt.xlabel(\"Coefficient Value\")\n",
    "plt.ylabel(\"Feature\")\n",
    "plt.title(\"Feature Importance - L2 Regularization\")\n",
    "\n",
    "# 숫자를 막대 위에 표시하는 코드\n",
    "for p in ax2.patches:\n",
    "    ax2.annotate(f'{p.get_width():.2f}', (p.get_x() + p.get_width(), p.get_y() + p.get_height() / 2),\n",
    "                 ha='left', va='center', xytext=(5, 0), textcoords='offset points')\n",
    "\n",
    "plt.show()"
   ]
  },
  {
   "cell_type": "code",
   "execution_count": 49,
   "metadata": {},
   "outputs": [
    {
     "name": "stdout",
     "output_type": "stream",
     "text": [
      "   Variable           VIF\n",
      "0       ROE  1.093202e+00\n",
      "1      ROIC  1.235610e+00\n",
      "2   OPEX/매출  2.136449e+00\n",
      "3    잉여현금흐름  2.928744e+00\n",
      "4   Buffett  2.962030e+00\n",
      "5      ROCE  1.002003e+00\n",
      "6    자사주매입1           inf\n",
      "7    자사주매입2           inf\n",
      "8     주주환원1           inf\n",
      "9     주주환원2           inf\n",
      "10      배당율           inf\n",
      "11   보통주식비율  8.390089e+00\n",
      "12     신용등급  5.545738e+01\n",
      "13     부채비율           inf\n",
      "14     당좌비율  2.607154e+00\n",
      "15     유동비율  1.998635e+00\n",
      "16  자기자본 비율  1.801440e+15\n",
      "17   재무레버리지           inf\n",
      "18   신용스프레드  7.203320e+00\n"
     ]
    }
   ],
   "source": [
    "from statsmodels.stats.outliers_influence import variance_inflation_factor\n",
    "\n",
    "def calculate_vif(X):\n",
    "    vif_data = pd.DataFrame()\n",
    "    vif_data[\"Variable\"] = X.columns\n",
    "    vif_data[\"VIF\"] = [variance_inflation_factor(X.values, i) for i in range(X.shape[1])]\n",
    "    return vif_data\n",
    "\n",
    "# X에는 독립 변수들을 담은 데이터프레임을 넣어주세요\n",
    "vif_result = calculate_vif(x_tr)\n",
    "print(vif_result)\n",
    "\n",
    "# 10 이상이면 변수간 상관성이 높고, 5이상이면 주의. "
   ]
  },
  {
   "cell_type": "code",
   "execution_count": 72,
   "metadata": {},
   "outputs": [],
   "source": [
    "x_tr=df_tr.drop('label',axis=1)\n",
    "y_tr=df_tr['label']\n",
    "y_tr=y_tr.astype(int)\n",
    "x_test=df_test.drop('label',axis=1)\n",
    "y_test=df_test['label']\n",
    "\n",
    "x_tr.drop(['회사명', '거래소코드', '회계년도','평가사명 및 등급','train_cagr(%)','test_cagr(%)','CAGR_tr(%)','연도'],axis=1,inplace=True)\n",
    "x_test.drop(['회사명', '거래소코드', '회계년도','평가사명 및 등급','train_cagr(%)','test_cagr(%)','CAGR_tr(%)','연도'],axis=1,inplace=True)"
   ]
  },
  {
   "cell_type": "markdown",
   "metadata": {},
   "source": [
    "#### 변수선택 기준\n",
    "\n",
    "- 1회차 VIF값 5이상은 제거 (['자사주매입2','주주환원2','재무레버리지','자기자본 비율', '신용등급', '주주환원1'])\n",
    "\n",
    "\n",
    "\n"
   ]
  },
  {
   "cell_type": "code",
   "execution_count": 58,
   "metadata": {},
   "outputs": [
    {
     "name": "stdout",
     "output_type": "stream",
     "text": [
      "   Variable       VIF\n",
      "0       ROE  1.085603\n",
      "1      ROIC  1.234482\n",
      "2   OPEX/매출  1.834284\n",
      "3    잉여현금흐름  2.898379\n",
      "4   Buffett  2.949352\n",
      "5      ROCE  1.001436\n",
      "6    자사주매입1  1.000451\n",
      "7       배당율  1.004216\n",
      "8    보통주식비율  2.255700\n",
      "9      부채비율  1.008210\n",
      "10     당좌비율  2.270625\n",
      "11     유동비율  1.771242\n",
      "12   신용스프레드  1.024235\n"
     ]
    }
   ],
   "source": [
    "x_tr.drop(['자사주매입2','주주환원2','재무레버리지','자기자본 비율', '신용등급', '주주환원1'],axis=1, inplace=True)\n",
    "x_test.drop(['자사주매입2','주주환원2','재무레버리지','자기자본 비율', '신용등급', '주주환원1'],axis=1, inplace=True)\n",
    "vif_result = calculate_vif(x_tr)\n",
    "print(vif_result)\n",
    "\n",
    "# 0.09302325581395349\n",
    "# 0.07272727272727272\n",
    "# 0.125 성능향상은 있음"
   ]
  },
  {
   "cell_type": "code",
   "execution_count": 69,
   "metadata": {},
   "outputs": [
    {
     "name": "stdout",
     "output_type": "stream",
     "text": [
      "   Variable        VIF\n",
      "0       ROE   1.085766\n",
      "1      ROIC   1.233477\n",
      "2   OPEX/매출   2.116637\n",
      "3    잉여현금흐름   2.903982\n",
      "4   Buffett   2.955097\n",
      "5      ROCE   1.001395\n",
      "6    자사주매입1   1.000515\n",
      "7       배당율   1.004540\n",
      "8    보통주식비율   8.358273\n",
      "9      신용등급   7.886860\n",
      "10     부채비율   1.008655\n",
      "11     당좌비율   2.605430\n",
      "12     유동비율   1.997371\n",
      "13  자기자본 비율  17.995689\n"
     ]
    }
   ],
   "source": [
    "x_tr.drop(['자사주매입2','주주환원2','주주환원1','재무레버리지', '신용스프레드' ],axis=1, inplace=True)\n",
    "x_test.drop(['자사주매입2','주주환원2','주주환원1','재무레버리지', '신용스프레드'],axis=1, inplace=True)\n",
    "vif_result = calculate_vif(x_tr)\n",
    "print(vif_result)\n",
    "#주주환원 변수 안버리면 거버넌스 지표 전부 사용불가능.  "
   ]
  },
  {
   "cell_type": "code",
   "execution_count": 73,
   "metadata": {},
   "outputs": [
    {
     "name": "stdout",
     "output_type": "stream",
     "text": [
      "   Variable       VIF\n",
      "0       ROE  1.085007\n",
      "1      ROIC  1.233378\n",
      "2   OPEX/매출  1.957645\n",
      "3    잉여현금흐름  2.903569\n",
      "4   Buffett  2.946536\n",
      "5      ROCE  1.001382\n",
      "6    자사주매입1  1.000469\n",
      "7       배당율  1.004137\n",
      "8    보통주식비율  4.607129\n",
      "9      신용등급  4.819553\n",
      "10     부채비율  1.008516\n",
      "11     당좌비율  2.377305\n",
      "12     유동비율  1.787629\n"
     ]
    }
   ],
   "source": [
    "x_tr.drop(['자사주매입2','주주환원2','주주환원1','재무레버리지', '신용스프레드','자기자본 비율' ],axis=1, inplace=True)\n",
    "x_test.drop(['자사주매입2','주주환원2','주주환원1','재무레버리지', '신용스프레드','자기자본 비율'],axis=1, inplace=True)\n",
    "vif_result = calculate_vif(x_tr)\n",
    "print(vif_result)\n",
    "#주주환원 변수 안버리면 거버넌스 지표 전부 사용불가능.  \n",
    "#자기자본 비율 안버리면 신용등급, 보통주식비율 사용불가능. 왜?? \n",
    "\n",
    "# 0.1111111111111111\n",
    "# 0.07407407407407407\n",
    "# 0.0 성능하락. 이거 테스트성능 써두지말고 훈련셋 성능써야함. 우선은 기록.\n",
    "# 신용스프레드를 살릴거냐, 신용등급을 살릴거냐 결정필요. "
   ]
  },
  {
   "cell_type": "markdown",
   "metadata": {},
   "source": [
    "- 코드 정리하고, 다중공선성은 해결된것으로 보임. 해당 변수들 이상치 확인해서 Robust Scaler나 MinMax Scaler로 조정해줄 것. 아니면 이상치를 버리던가. \n",
    "\n",
    "- 스케일링시 학습과 테스트 데이터로 fit 사용시 학습, 테스트 데이터 학습이 다르게 될것임. 따라서 df를 해버리거나 아니면 트레인에 fit한거를 테스트에 fit 해야함. "
   ]
  }
 ],
 "metadata": {
  "kernelspec": {
   "display_name": "Python 3 (ipykernel)",
   "language": "python",
   "name": "python3"
  },
  "language_info": {
   "codemirror_mode": {
    "name": "ipython",
    "version": 3
   },
   "file_extension": ".py",
   "mimetype": "text/x-python",
   "name": "python",
   "nbconvert_exporter": "python",
   "pygments_lexer": "ipython3",
   "version": "3.9.15"
  }
 },
 "nbformat": 4,
 "nbformat_minor": 2
}
