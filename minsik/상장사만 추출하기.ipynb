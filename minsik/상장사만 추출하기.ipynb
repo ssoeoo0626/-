{
 "cells": [
  {
   "cell_type": "code",
   "execution_count": 1,
   "id": "0cff5f88-c6d9-4e96-b226-5f30f4656f19",
   "metadata": {},
   "outputs": [
    {
     "data": {
      "application/vnd.jupyter.widget-view+json": {
       "model_id": "984c456b5d3448e1b9dc21e8bdd17ed6",
       "version_major": 2,
       "version_minor": 0
      },
      "text/plain": [
       "Output()"
      ]
     },
     "metadata": {},
     "output_type": "display_data"
    },
    {
     "data": {
      "application/vnd.jupyter.widget-view+json": {
       "model_id": "ac38c27757b943f7bc851dac27b93991",
       "version_major": 2,
       "version_minor": 0
      },
      "text/plain": [
       "Output()"
      ]
     },
     "metadata": {},
     "output_type": "display_data"
    },
    {
     "data": {
      "application/vnd.jupyter.widget-view+json": {
       "model_id": "a6f96883a7f64f6ead6a04a2ba607d28",
       "version_major": 2,
       "version_minor": 0
      },
      "text/plain": [
       "Output()"
      ]
     },
     "metadata": {},
     "output_type": "display_data"
    }
   ],
   "source": [
    "#!pip install selenium\n",
    "#!pip install tabulate\n",
    "#!pip install dart-fss\n",
    "#!pip install opendartreader \n",
    "#from marcap import marcap_data\n",
    "import datetime as datetime\n",
    "from dateutil.parser import parse\n",
    "today=datetime.date.today() #오늘날짜 정의\n",
    "from bs4 import BeautifulSoup\n",
    "import requests\n",
    "import re\n",
    "import pandas as pd\n",
    "import os \n",
    "from selenium import webdriver\n",
    "from tabulate import tabulate as tabu\n",
    "import requests \n",
    "import numpy as np\n",
    "from io import BytesIO\n",
    "from konlpy.tag import Okt\n",
    "from konlpy.tag import Kkma\n",
    "from konlpy.tag import Twitter\n",
    "from konlpy.utils import pprint\n",
    "import dart_fss as dartF\n",
    "import io \n",
    "import zipfile\n",
    "import xml.etree.ElementTree as et \n",
    "import json\n",
    "import xmltodict\n",
    "import urllib\n",
    "import OpenDartReader as dart\n",
    "#soup=BeautifulSoup(html, 'html.parser')\n",
    "\n",
    "okt=Okt\n",
    "kkma=Kkma\n",
    "#사용 설명서 링크 https://dart-fss.readthedocs.io/en/latest/welcome.html\n",
    "# https://opendart.fss.or.kr/ \n",
    "# Open DART API KEY 설정 api key 새로 받아와야 함 \n",
    "today=datetime.date.today() #오늘날짜 정의\n",
    "#df_marcap = marcap_data('2022-11-20', today.isoformat())\n",
    "crtfc_key='8b9c4adb3537a255f5a2bda2a0e43f09eb29e495'\n",
    "api_key='8b9c4adb3537a255f5a2bda2a0e43f09eb29e495'\n",
    "dartF.set_api_key(api_key=api_key)\n",
    "dart = dart(api_key) \n",
    "corp_list = dartF.get_corp_list() #다트에서 회사 리스트 받아옴 \n",
    "np.set_printoptions(threshold=np.inf, linewidth=np.inf) #생략없이 dart fss프린트하게 하는 옵션\n",
    "pd.set_option('display.max_rows', 50)  #데이터 프레임 안짤리고 전부 나오게 하는 명령어 \n",
    "pd.set_option('display.max_columns', 50)\n",
    "pd.set_option('display.width', 50)"
   ]
  },
  {
   "cell_type": "code",
   "execution_count": 2,
   "id": "4593e857-dea6-4849-85b0-20f5b3762e96",
   "metadata": {},
   "outputs": [],
   "source": [
    "import io\n",
    "import zipfile\n",
    "import requests\n",
    "from xml.etree.ElementTree import parse\n",
    "import pandas as pd\n",
    "import time\n",
    "import datetime\n",
    "#https://yenpa.tistory.com/49 <<상장사만 추출하는 방법 링크 \n",
    "crtfc_key='8b9c4adb3537a255f5a2bda2a0e43f09eb29e495'\n",
    "\n",
    "#회사정보 가져오기\n",
    "#임의로 'E:/' 로 설정 및 다운로드 파일 corpcode.zip으로 설정\n",
    "path='D:/stock'\n",
    "filename='corpcode.zip'\n",
    "\n",
    "url = 'https://opendart.fss.or.kr/api/corpCode.xml'\n",
    "params = {\n",
    "    'crtfc_key': crtfc_key,\n",
    "}\n",
    "results=requests.get(url, params=params)\n",
    "\n",
    "file = open(path+filename, 'wb')\n",
    "file.write(results.content)\n",
    "file.close()\n",
    "\n",
    "zipfile.ZipFile(path+filename).extractall(path)\n",
    "\n",
    "tree = parse(path + '/CORPCODE.xml')\n",
    "root = tree.getroot()\n",
    "li=root.findall('list')\n",
    "corp_code,corp_name,stock_code,modify_date=[],[],[],[]\n",
    "for d in li:\n",
    "    corp_code.append(d.find('corp_code').text)\n",
    "    corp_name.append(d.find('corp_name').text)\n",
    "    stock_code.append(d.find('stock_code').text)\n",
    "    modify_date.append(d.find('modify_date').text)\n",
    "corps_df = pd.DataFrame({'corp_code':corp_code,'corp_name':corp_name,\n",
    "         'stock_code':stock_code,'modify_date':modify_date})\n",
    "\n",
    "corps_df = corps_df.loc[corps_df['stock_code']!=' ',:].reset_index(drop=True)\n",
    "#회사 리스트 저장\n"
   ]
  },
  {
   "cell_type": "code",
   "execution_count": 3,
   "id": "db541a4c-a4a2-4e14-9aee-c614b3e34f57",
   "metadata": {},
   "outputs": [],
   "source": [
    "path='D:/stock'\n",
    "filename='corpcode.zip'\n",
    "\n",
    "url = 'https://opendart.fss.or.kr/api/corpCode.xml'\n",
    "params = {\n",
    "    'crtfc_key': crtfc_key,\n",
    "}\n",
    "results=requests.get(url, params=params)\n",
    "\n",
    "file = open(path+filename, 'wb')\n",
    "file.write(results.content)\n",
    "file.close()\n",
    "#압축해제"
   ]
  },
  {
   "cell_type": "code",
   "execution_count": 4,
   "id": "4f377f06-cbf9-4ad3-9c21-0a05c3ab1007",
   "metadata": {},
   "outputs": [],
   "source": [
    "zipfile.ZipFile(path+filename).extractall(path)"
   ]
  },
  {
   "cell_type": "code",
   "execution_count": 5,
   "id": "2defa668-c36a-4784-8791-83b68809eed9",
   "metadata": {},
   "outputs": [],
   "source": [
    "tree = parse(path + '/CORPCODE.xml')\n",
    "root = tree.getroot()\n",
    "li=root.findall('list')\n",
    "corp_code,corp_name,stock_code,modify_date=[],[],[],[]\n",
    "for d in li:\n",
    "    corp_code.append(d.find('corp_code').text)\n",
    "    corp_name.append(d.find('corp_name').text)\n",
    "    stock_code.append(d.find('stock_code').text)\n",
    "    modify_date.append(d.find('modify_date').text)\n",
    "corps_df = pd.DataFrame({'corp_code':corp_code,'corp_name':corp_name,\n",
    "         'stock_code':stock_code,'modify_date':modify_date})\n",
    "\n",
    "corps_df = corps_df.loc[corps_df['stock_code']!=' ',:].reset_index(drop=True)\n",
    "#상장사만 추출한거임. \n"
   ]
  },
  {
   "cell_type": "code",
   "execution_count": 31,
   "id": "a70b61b6-1241-46ef-a3a8-18a7e2f8299f",
   "metadata": {},
   "outputs": [
    {
     "ename": "TypeError",
     "evalue": "report() missing 1 required positional argument: 'bsns_year'",
     "output_type": "error",
     "traceback": [
      "\u001b[1;31m---------------------------------------------------------------------------\u001b[0m",
      "\u001b[1;31mTypeError\u001b[0m                                 Traceback (most recent call last)",
      "Cell \u001b[1;32mIn [31], line 3\u001b[0m\n\u001b[0;32m      1\u001b[0m stock_list\u001b[38;5;241m=\u001b[39mcorps_df\u001b[38;5;241m.\u001b[39miloc[:,\u001b[38;5;241m1\u001b[39m]\n\u001b[0;32m      2\u001b[0m stock_list\u001b[38;5;241m=\u001b[39mstock_list\u001b[38;5;241m.\u001b[39mtolist()\n\u001b[1;32m----> 3\u001b[0m \u001b[43mdart\u001b[49m\u001b[38;5;241;43m.\u001b[39;49m\u001b[43mreport\u001b[49m\u001b[43m(\u001b[49m\u001b[43mstock_list\u001b[49m\u001b[43m[\u001b[49m\u001b[38;5;241;43m0\u001b[39;49m\u001b[43m]\u001b[49m\u001b[43m,\u001b[49m\u001b[43m \u001b[49m\u001b[38;5;124;43m'\u001b[39;49m\u001b[38;5;124;43m주식총수\u001b[39;49m\u001b[38;5;124;43m'\u001b[39;49m\u001b[43m,\u001b[49m\u001b[43m \u001b[49m\u001b[43myear\u001b[49m\u001b[43m)\u001b[49m\n",
      "\u001b[1;31mTypeError\u001b[0m: report() missing 1 required positional argument: 'bsns_year'"
     ]
    }
   ],
   "source": [
    "stock_list=corps_df.iloc[:,1]\n",
    "stock_list=stock_list.tolist()\n",
    "dart.report(stock_list[0], '주식총수', year)"
   ]
  },
  {
   "cell_type": "code",
   "execution_count": 25,
   "id": "b60c343b-b29b-4e58-9b11-e1ac20b70516",
   "metadata": {},
   "outputs": [
    {
     "ename": "TypeError",
     "evalue": "report() missing 1 required positional argument: 'self'",
     "output_type": "error",
     "traceback": [
      "\u001b[1;31m---------------------------------------------------------------------------\u001b[0m",
      "\u001b[1;31mTypeError\u001b[0m                                 Traceback (most recent call last)",
      "Cell \u001b[1;32mIn [25], line 25\u001b[0m\n\u001b[0;32m     22\u001b[0m \u001b[38;5;28;01mfor\u001b[39;00m year \u001b[38;5;129;01min\u001b[39;00m \u001b[38;5;28mrange\u001b[39m(start_year, end_year \u001b[38;5;241m+\u001b[39m \u001b[38;5;241m1\u001b[39m):\n\u001b[0;32m     23\u001b[0m     \u001b[38;5;28;01mtry\u001b[39;00m:\n\u001b[0;32m     24\u001b[0m         \u001b[38;5;66;03m# 데이터를 가져오는 코드\u001b[39;00m\n\u001b[1;32m---> 25\u001b[0m         share \u001b[38;5;241m=\u001b[39m \u001b[43mdart\u001b[49m\u001b[38;5;241;43m.\u001b[39;49m\u001b[43mreport\u001b[49m\u001b[43m(\u001b[49m\u001b[43mcorp\u001b[49m\u001b[38;5;241;43m=\u001b[39;49m\u001b[43m회사명\u001b[49m\u001b[43m,\u001b[49m\u001b[43m \u001b[49m\u001b[43mkey_word\u001b[49m\u001b[38;5;241;43m=\u001b[39;49m\u001b[38;5;124;43m'\u001b[39;49m\u001b[38;5;124;43m주식총수\u001b[39;49m\u001b[38;5;124;43m'\u001b[39;49m\u001b[43m,\u001b[49m\u001b[43m \u001b[49m\u001b[43mbsns_year\u001b[49m\u001b[38;5;241;43m=\u001b[39;49m\u001b[43myear\u001b[49m\u001b[43m)\u001b[49m\n\u001b[0;32m     27\u001b[0m         \u001b[38;5;66;03m# 필요한 열만 선택하여 데이터프레임 생성\u001b[39;00m\n\u001b[0;32m     28\u001b[0m         selected_columns \u001b[38;5;241m=\u001b[39m share[[\u001b[38;5;124m'\u001b[39m\u001b[38;5;124mcorp_name\u001b[39m\u001b[38;5;124m'\u001b[39m, \u001b[38;5;124m'\u001b[39m\u001b[38;5;124mse\u001b[39m\u001b[38;5;124m'\u001b[39m, \u001b[38;5;124m'\u001b[39m\u001b[38;5;124misu_stock_totqy\u001b[39m\u001b[38;5;124m'\u001b[39m, \u001b[38;5;124m'\u001b[39m\u001b[38;5;124mnow_to_isu_stock_totqy\u001b[39m\u001b[38;5;124m'\u001b[39m, \u001b[38;5;124m'\u001b[39m\u001b[38;5;124mnow_to_dcrs_stock_totqy\u001b[39m\u001b[38;5;124m'\u001b[39m,\n\u001b[0;32m     29\u001b[0m                                   \u001b[38;5;124m'\u001b[39m\u001b[38;5;124mredc\u001b[39m\u001b[38;5;124m'\u001b[39m, \u001b[38;5;124m'\u001b[39m\u001b[38;5;124mprofit_incnr\u001b[39m\u001b[38;5;124m'\u001b[39m, \u001b[38;5;124m'\u001b[39m\u001b[38;5;124mistc_totqy\u001b[39m\u001b[38;5;124m'\u001b[39m, \u001b[38;5;124m'\u001b[39m\u001b[38;5;124mtesstk_co\u001b[39m\u001b[38;5;124m'\u001b[39m, \u001b[38;5;124m'\u001b[39m\u001b[38;5;124mdistb_stock_co\u001b[39m\u001b[38;5;124m'\u001b[39m]]\n",
      "\u001b[1;31mTypeError\u001b[0m: report() missing 1 required positional argument: 'self'"
     ]
    }
   ],
   "source": [
    "import OpenDartReader as dart\n",
    "import pandas as pd\n",
    "import warnings\n",
    "\n",
    "# OpenDartReader 인스턴스 생성\n",
    "dart_api_key = '8b9c4adb3537a255f5a2bda2a0e43f09eb29e495'\n",
    "\n",
    "# 모든 경고를 무시\n",
    "warnings.filterwarnings('ignore')\n",
    "\n",
    "\n",
    "# 기업 코드 목록을 가져오기\n",
    "\n",
    "start_year = 2015\n",
    "end_year = 2022\n",
    "\n",
    "# 데이터를 저장할 빈 DataFrame 생성\n",
    "total_share = pd.DataFrame()\n",
    "\n",
    "# 선택된 회사들에 대해 데이터 추출\n",
    "for 회사명 in stock_list:\n",
    "    for year in range(start_year, end_year + 1):\n",
    "        try:\n",
    "            # 데이터를 가져오는 코드\n",
    "            share = dart.report(corp=회사명, key_word='주식총수', bsns_year=year)\n",
    "            \n",
    "            # 필요한 열만 선택하여 데이터프레임 생성\n",
    "            selected_columns = share[['corp_name', 'se', 'isu_stock_totqy', 'now_to_isu_stock_totqy', 'now_to_dcrs_stock_totqy',\n",
    "                                      'redc', 'profit_incnr', 'istc_totqy', 'tesstk_co', 'distb_stock_co']]\n",
    "            \n",
    "            # 데이터프레임의 열 이름 변경\n",
    "            selected_columns.columns = ['회사명', '구분', '발행주식 총수', '현재까지 발행한 주식의 총수', '현재까지 감소한 주식의 총수',\n",
    "                                        '감자', '이익소각', '발행주식의 총수', '자기주식수', '유통주식수']\n",
    "            \n",
    "            # '연도' 열 추가\n",
    "            selected_columns['연도'] = year\n",
    "            \n",
    "            # 데이터를 total_share에 추가\n",
    "            total_share = pd.concat([total_share, selected_columns], ignore_index=True)\n",
    "            \n",
    "            # '구분' 열에서 '합계' 문자열을 포함한 행 추출\n",
    "            filtered_total_share = total_share[total_share['구분'].str.contains('합계')]\n",
    "\n",
    "        except KeyError:\n",
    "            # 필요한 열이 없는 경우 해당 회사를 건너뛰기\n",
    "            print(f\"Skipping {회사명} for year {year}\")\n",
    "            continue\n",
    "\n",
    "# 엑셀 파일로 저장\n",
    "excel_file_name = 'filtered_share_data.xlsx'\n",
    "filtered_total_share.to_excel(excel_file_name, index=False)\n",
    "print(f\"Data saved to {excel_file_name}\")"
   ]
  }
 ],
 "metadata": {
  "kernelspec": {
   "display_name": "Python 3 (ipykernel)",
   "language": "python",
   "name": "python3"
  },
  "language_info": {
   "codemirror_mode": {
    "name": "ipython",
    "version": 3
   },
   "file_extension": ".py",
   "mimetype": "text/x-python",
   "name": "python",
   "nbconvert_exporter": "python",
   "pygments_lexer": "ipython3",
   "version": "3.9.15"
  }
 },
 "nbformat": 4,
 "nbformat_minor": 5
}
