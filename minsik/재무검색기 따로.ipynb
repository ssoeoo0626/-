{
 "cells": [
  {
   "cell_type": "markdown",
   "id": "6a0e79d5-4eb4-45f2-8187-03b03e443f8b",
   "metadata": {},
   "source": [
    "##### 메일 보낼때 주석처리 풀고 보낼것. "
   ]
  },
  {
   "cell_type": "code",
   "execution_count": 1,
   "id": "0cbd9cbf-7ae8-4c13-80f2-79e9eb5e0ba2",
   "metadata": {},
   "outputs": [],
   "source": [
    "#!pip install selenium\n",
    "#!pip install tabulate\n",
    "#!pip install dart-fss\n",
    "#!pip install opendartreader \n",
    "#from marcap import marcap_data\n",
    "import datetime as datetime\n",
    "from dateutil.parser import parse\n",
    "today=datetime.date.today() #오늘날짜 정의\n",
    "from bs4 import BeautifulSoup\n",
    "import requests\n",
    "import re\n",
    "import pandas as pd\n",
    "import os \n",
    "from selenium import webdriver\n",
    "from tabulate import tabulate as tabu\n",
    "import requests \n",
    "import numpy as np\n",
    "from io import BytesIO\n",
    "from konlpy.tag import Okt\n",
    "from konlpy.tag import Kkma\n",
    "from konlpy.tag import Twitter\n",
    "from konlpy.utils import pprint\n",
    "import dart_fss as dartF\n",
    "import io \n",
    "import zipfile\n",
    "import xml.etree.ElementTree as et \n",
    "import json\n",
    "import xmltodict\n",
    "import urllib\n",
    "import OpenDartReader as dart\n",
    "#soup=BeautifulSoup(html, 'html.parser')"
   ]
  },
  {
   "cell_type": "code",
   "execution_count": 3,
   "id": "6633ec87-9e94-4a32-b1ff-791c1289b9b4",
   "metadata": {},
   "outputs": [
    {
     "data": {
      "application/vnd.jupyter.widget-view+json": {
       "model_id": "9cbf7418cb51493d9f88349cb2d20cdf",
       "version_major": 2,
       "version_minor": 0
      },
      "text/plain": [
       "Output()"
      ]
     },
     "metadata": {},
     "output_type": "display_data"
    },
    {
     "data": {
      "application/vnd.jupyter.widget-view+json": {
       "model_id": "057e7460662241cd89d4487f5d05b0b1",
       "version_major": 2,
       "version_minor": 0
      },
      "text/plain": [
       "Output()"
      ]
     },
     "metadata": {},
     "output_type": "display_data"
    },
    {
     "data": {
      "application/vnd.jupyter.widget-view+json": {
       "model_id": "e1007d3e9f7845d6855f5c2514b4784a",
       "version_major": 2,
       "version_minor": 0
      },
      "text/plain": [
       "Output()"
      ]
     },
     "metadata": {},
     "output_type": "display_data"
    }
   ],
   "source": [
    "okt=Okt\n",
    "kkma=Kkma\n",
    "#사용 설명서 링크 https://dart-fss.readthedocs.io/en/latest/welcome.html\n",
    "# https://opendart.fss.or.kr/ \n",
    "# Open DART API KEY 설정 api key 새로 받아와야 함 \n",
    "today=datetime.date.today() #오늘날짜 정의\n",
    "#df_marcap = marcap_data('2022-11-20', today.isoformat())\n",
    "crtfc_key='8b9c4adb3537a255f5a2bda2a0e43f09eb29e495'\n",
    "api_key='8b9c4adb3537a255f5a2bda2a0e43f09eb29e495'\n",
    "dartF.set_api_key(api_key=api_key)\n",
    "dart = dart(api_key) \n",
    "corp_list = dartF.get_corp_list() #다트에서 회사 리스트 받아옴 \n",
    "np.set_printoptions(threshold=np.inf, linewidth=np.inf) #생략없이 dart fss프린트하게 하는 옵션\n",
    "pd.set_option('display.max_rows', 500)  #데이터 프레임 안짤리고 전부 나오게 하는 명령어 \n",
    "pd.set_option('display.max_columns', 500)\n",
    "pd.set_option('display.width', 500)"
   ]
  },
  {
   "cell_type": "markdown",
   "id": "2109d204-73e1-4c3e-9a95-1d5d7c4ba3bf",
   "metadata": {},
   "source": [
    "##### 시가총액 기능 x. 사용하기 위해선 marcap 데이터 (5G) 다운로드 필요"
   ]
  },
  {
   "cell_type": "code",
   "execution_count": 28,
   "id": "3d708526-06aa-46cd-b983-758d06d735af",
   "metadata": {},
   "outputs": [
    {
     "name": "stdout",
     "output_type": "stream",
     "text": [
      "원하는 회사 이름을 입력하세요 (영어는 대문자로 입력해주세요.)\n"
     ]
    },
    {
     "name": "stdin",
     "output_type": "stream",
     "text": [
      " SK하이닉스\n"
     ]
    },
    {
     "name": "stdout",
     "output_type": "stream",
     "text": [
      "[00164779]SK하이닉스\n",
      "해당숫자는 회사코드입니다. 입력해주세요\n"
     ]
    },
    {
     "name": "stdin",
     "output_type": "stream",
     "text": [
      " 00164779\n"
     ]
    },
    {
     "name": "stdout",
     "output_type": "stream",
     "text": [
      "해당 회사에서 알고 싶은 정보를 입력해주세요 (재무, 배당, 거래소공시내역, 자기주식처분,시가총액 등)\n"
     ]
    },
    {
     "name": "stdin",
     "output_type": "stream",
     "text": [
      " 시가총액 얼마?\n"
     ]
    },
    {
     "name": "stdout",
     "output_type": "stream",
     "text": [
      "질문을 이해하지 못했습니다\n",
      "+---------------------+------------+----------------+----------+\n",
      "| Date                | Name       |         Marcap | Market   |\n",
      "|---------------------+------------+----------------+----------|\n",
      "| 2022-11-21 00:00:00 | SK하이닉스 | 62826604099500 | KOSPI    |\n",
      "| 2022-11-22 00:00:00 | SK하이닉스 | 62025801498000 | KOSPI    |\n",
      "| 2022-11-23 00:00:00 | SK하이닉스 | 62025801498000 | KOSPI    |\n",
      "+---------------------+------------+----------------+----------+\n",
      "질문을 이해하지 못했습니다\n",
      "질문을 이해하지 못했습니다\n"
     ]
    }
   ],
   "source": [
    "import nltk\n",
    "\n",
    "print('원하는 회사 이름을 입력하세요 (영어는 대문자로 입력해주세요.)')\n",
    "\n",
    "user_message=input()\n",
    "\n",
    "corp_name=corp_list.find_by_corp_name(user_message, exactly=True)[0]\n",
    "\n",
    "print(corp_name)\n",
    "\n",
    "print(\"해당숫자는 회사코드입니다. 입력해주세요\")\n",
    "\n",
    "corp_code_input=input()\n",
    "\n",
    "print(\"해당 회사에서 알고 싶은 정보를 입력해주세요 (재무, 배당, 거래소공시내역, 자기주식처분,시가총액 등)\")\n",
    "      \n",
    "user_message2=input()\n",
    "\n",
    "\n",
    "#Q1=okt().nouns(user_message2) #형태소분석기로 명사만 뽑기 사용한것  데이터 형태는 리스트임 \n",
    "#유형자산을 하나로 인식하는 형태소분석기 필요  kkma만 유형자산 입력이 유형과 자산을 따로 보지 않고 '유형자산'으로 인식함 \n",
    "Q1=kkma().nouns(user_message2)\n",
    "\n",
    "#https://infinitt.tistory.com/21 조건문 관련 링크 \n",
    "#elif i== '재무' or '재무제표' <<이렇게 하면  i가 문자열이나 문자열이면 조건을 만족한다라는 의미가 되어버림. (따라서 무조건 조건을 만족하게 되어 그 조건만 출력됨)\n",
    "#정확히 내가 원하는 문자를 가지고 있는지 묻기 위해선 따로 i==지정을 해줘야만 함. \n",
    "\n",
    "for i in Q1 :\n",
    "    if  i == '배당' or i == '배당금':\n",
    "        print(dart.report(user_message, '배당', 2021, reprt_code='11011'))\n",
    "        \n",
    "    elif i == '재무' or i == '재무제표' :\n",
    "        data=dart.finstate_all(corp=user_message, bsns_year=2021, reprt_code='11011', fs_div='CFS') #pandas 데이터 프레임임 \n",
    "        data2=data.loc[:,['bsns_year','sj_nm','account_nm','thstrm_nm','thstrm_amount','currency']] #특정 열만 추출함 (현재 이번년도만 추출)\n",
    "       # print(data2)\n",
    "        print(tabu(data2, headers='keys', tablefmt='psql', showindex=True))\n",
    "    \n",
    "    elif i == '자기주식처분' or i == '처분' or i =='사주' or i =='자사주':\n",
    "        report=dart.event(user_message, '자기주식처분', start=2021, end=today)\n",
    "        report_ad=report.loc[:,['corp_name','dppln_stk_ostk','dpstk_prc_ostk','dppln_prc_ostk','dpprpd_edd','dp_pp']] #특정 열 추출 \n",
    "        report_ad.colums= ['corp_name','dppln_stk_ostk','dpstk_prc_ostk','dppln_prc_ostk','dpprpd_edd','dp_pp'] #특정 열 추출 \n",
    "        report_ad.rename(columns={'dppln_stk_ostk':'주식 수','dpstk_prc_ostk':'주당가격','dppln_prc_ostk':'처분총액','dp_pp':'처분목적'}, inplace=True) #열의 이름 바꿔줌 \n",
    "       # print(report_ad)\n",
    "        print(tabu(report_ad, headers='keys', tablefmt='psql', showindex=True))\n",
    "                   \n",
    "    elif i == '공시' or i == '공시정보' or i=='내역' or i=='공시내역' or i=='목록':\n",
    "        report_list=dartF.filings.search(corp_code=corp_code_input, bgn_de=20200101, end_de=None, last_reprt_at='N', pblntf_ty='I',\n",
    "                                         pblntf_detail_ty='H', corp_cls=None, sort='date', sort_mth='asc', page_no=1, page_count=100)\n",
    "        \n",
    "        print(report_list)  #이새끼 이쁘게 출력 어렵나?\n",
    "        #print(tabu(report_list, headers='keys', tablefmt='psql', showindex=True))\n",
    "  \"\"\"      \n",
    "    elif i == '시가총액' or i == '시총':\n",
    "        marketcap = df_marcap[df_marcap['Name']==user_message]\n",
    "        marketcap_ad= marketcap.loc[:,['Name','Marcap','Market']]\n",
    "        #print(marketcap_ad)\n",
    "        print(tabu(marketcap_ad, headers='keys', tablefmt='psql', showindex=True))\n",
    "    \"\"\"    \n",
    "    else:\n",
    "        print(\"질문을 이해하지 못했습니다\")\n"
   ]
  }
 ],
 "metadata": {
  "kernelspec": {
   "display_name": "Python 3 (ipykernel)",
   "language": "python",
   "name": "python3"
  },
  "language_info": {
   "codemirror_mode": {
    "name": "ipython",
    "version": 3
   },
   "file_extension": ".py",
   "mimetype": "text/x-python",
   "name": "python",
   "nbconvert_exporter": "python",
   "pygments_lexer": "ipython3",
   "version": "3.9.15"
  }
 },
 "nbformat": 4,
 "nbformat_minor": 5
}
