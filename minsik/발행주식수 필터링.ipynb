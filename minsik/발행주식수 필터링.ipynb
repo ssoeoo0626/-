{
 "cells": [
  {
   "cell_type": "code",
   "execution_count": 2,
   "id": "ac9a35cd-c317-402e-ab53-651b082bc9ee",
   "metadata": {
    "tags": []
   },
   "outputs": [
    {
     "name": "stdout",
     "output_type": "stream",
     "text": [
      "<class 'pandas.core.frame.DataFrame'>\n",
      "RangeIndex: 6988 entries, 0 to 6987\n",
      "Data columns (total 10 columns):\n",
      " #   Column           Non-Null Count  Dtype \n",
      "---  ------           --------------  ----- \n",
      " 0   회사명              6988 non-null   object\n",
      " 1   발행주식 총수          6988 non-null   int64 \n",
      " 2   현재까지 발행한 주식의 총수  6988 non-null   int64 \n",
      " 3   현재까지 감소한 주식의 총수  6988 non-null   int64 \n",
      " 4   감자               6988 non-null   object\n",
      " 5   이익소각             6988 non-null   object\n",
      " 6   발행주식의 총수         6988 non-null   object\n",
      " 7   자기주식수            6988 non-null   object\n",
      " 8   유통주식수            6988 non-null   object\n",
      " 9   연도               6988 non-null   int64 \n",
      "dtypes: int64(4), object(6)\n",
      "memory usage: 546.1+ KB\n"
     ]
    }
   ],
   "source": [
    "import pandas as pd\n",
    "import numpy as np\n",
    "\n",
    "#filter_v2는 감소한 주식이 없는걸 모두 제외함.\n",
    "\n",
    "# 엑셀 파일 읽어오기\n",
    "df = pd.read_excel(\"D:/stock/filtered_share_data/filter_v2.xlsx\")\n",
    "\n",
    "# 숫자 문자열에서 쉼표(,) 제거하고 정수로 변환하는 함수 정의\n",
    "def convert_to_int(value):\n",
    "    try:\n",
    "        # 쉼표(,) 제거하고 정수로 변환\n",
    "        return int(str(value).replace(',', ''))\n",
    "    except ValueError:\n",
    "        # 변환에 실패하면 그대로 반환\n",
    "        return value\n",
    "\n",
    "# 특정 열에 대해 convert_to_int 함수 적용\n",
    "columns_to_convert = ['발행주식 총수', '현재까지 발행한 주식의 총수', '현재까지 감소한 주식의 총수', '이익소각', '감자', '발행주식의 총수', '자기주식수', '유통주식수']\n",
    "for column in columns_to_convert:\n",
    "    df[column] = df[column].apply(convert_to_int)\n",
    "\n",
    "# 데이터프레임 확인\n",
    "df.info()\n",
    "\n",
    "# 열에서 특정 값 변환하기\n",
    "target_value = '-'\n",
    "replacement_value = 0  # 변환하고자 하는 값\n",
    "\n",
    "# 열에서 특정 값(target_value)을 가진 행을 찾아 replacement_value로 변환\n",
    "df['이익소각'] = df['이익소각'].apply(lambda x: replacement_value if x == target_value else x)\n",
    "df['감자'] = df['감자'].apply(lambda x: replacement_value if x == target_value else x)\n",
    "#df['발행주식'].unique()"
   ]
  },
  {
   "cell_type": "code",
   "execution_count": 45,
   "id": "df9f93f5-6e44-4091-950e-50dd8a8ebae9",
   "metadata": {},
   "outputs": [],
   "source": [
    "#감소한 주식이 없거나 이익소각을 한 주식만 선택 \n",
    "df2=df[       (df['현재까지 감소한 주식의 총수']!=0) & (df['이익소각'] > 0)        ]\n",
    "\n",
    "\n",
    "# '현재까지 발행한 주식의 총수'가 증가하지 않거나 감소한 행을 필터링하는 함수 정의\n",
    "def filter_non_increasing_or_decreasing(group):\n",
    "    return (group['현재까지 발행한 주식의 총수'].equals(group['현재까지 발행한 주식의 총수'].shift()) or\n",
    "            group['현재까지 발행한 주식의 총수'].is_monotonic_decreasing)\n",
    "\n",
    "# '회사명'이 같은 그룹 내에서 '현재까지 발행한 주식의 총수'가 증가하지 않거나 감소한 행을 고름\n",
    "result_df = df2.groupby('회사명').filter(filter_non_increasing_or_decreasing)\n",
    "\n",
    "#위 케이스의 result_df 경우 삼성전자 처럼 액면분할 할 경우 골라내지 못함. \n",
    "result_df.to_excel(\"이익소각있고, 발행주식이 증가하지 않거나 감소한 케이스.xlsx\", index=False, engine='openpyxl')\n",
    "df2.to_excel(\"이익소각있고, 액면분할 포함된 케이스.xlsx\", index=False, engine='openpyxl')"
   ]
  },
  {
   "cell_type": "code",
   "execution_count": 10,
   "id": "fc6c0bc9-af5d-4235-bc24-b01177aa9571",
   "metadata": {},
   "outputs": [],
   "source": [
    "df_use= pd.read_excel('이익소각있고, 액면분할 포함된 케이스.xlsx')\n",
    "\n",
    "# '이익소각' 열이 증가한 행만 필터링\n",
    "filtered_df = df.loc[df.groupby('회사명')['이익소각'].diff().fillna(0) > 0]\n",
    "\n",
    "filtered_df.to_excel(\"이익소각이 증가한 케이스가 존재하는 회사만 필터링.xlsx\", index=False, engine='openpyxl')\n"
   ]
  },
  {
   "cell_type": "code",
   "execution_count": 18,
   "id": "2dbf8a6d-89b7-4752-8579-2413ff955326",
   "metadata": {},
   "outputs": [
    {
     "data": {
      "text/plain": [
       "87"
      ]
     },
     "execution_count": 18,
     "metadata": {},
     "output_type": "execute_result"
    }
   ],
   "source": [
    "len(filtered_df['회사명'].unique())"
   ]
  },
  {
   "cell_type": "code",
   "execution_count": 17,
   "id": "8ea241d8-1404-4530-8f3f-86e1d6b031ce",
   "metadata": {},
   "outputs": [
    {
     "data": {
      "text/plain": [
       "1204"
      ]
     },
     "execution_count": 17,
     "metadata": {},
     "output_type": "execute_result"
    }
   ],
   "source": [
    "len(df['회사명'].unique())"
   ]
  },
  {
   "cell_type": "code",
   "execution_count": 19,
   "id": "8e15572b-bc26-4a87-9221-f56023b94a40",
   "metadata": {},
   "outputs": [
    {
     "data": {
      "text/plain": [
       "2639"
      ]
     },
     "execution_count": 19,
     "metadata": {},
     "output_type": "execute_result"
    }
   ],
   "source": [
    "origin = pd.read_excel(\"D:/stock/filtered_share_data/share_total.xlsx\")\n",
    "len(origin['회사명'].unique())"
   ]
  },
  {
   "cell_type": "code",
   "execution_count": 20,
   "id": "733be371-bf88-4458-8d56-2abe0e3fcdad",
   "metadata": {},
   "outputs": [
    {
     "data": {
      "text/plain": [
       "array(['휴젤', 'ES큐브', '화인베스틸', '오성첨단소재', '리드코프', '랩지노믹스', '그래디언트', '에스엠화진',\n",
       "       'APS', '콜마파마', 'JYP Ent.', '나눔테크', '한일홀딩스', '유비쿼스홀딩스', '대아티아이',\n",
       "       '네오위즈홀딩스', '덕신하우징', '동양고속', '동아엘텍', 'SK하이닉스', '한솔홈데코', '메리츠금융지주',\n",
       "       'SK텔레콤', '한미반도체', '테크윙', 'KB금융', '메리츠화재해상보험', '제노코', '토비스', '펄어비스',\n",
       "       '세진중공업', '한국정보통신', '기업은행', '아나패스', '씨엔플러스', '현대자동차', '금호석유화학',\n",
       "       '탑선', '유티아이', '성창기업지주', '실리콘투', '호전실업', '백산', '현대모비스', '네패스',\n",
       "       '동남합성', '비나텍', '코웨이', '삼영엠텍', '폴라리스우노', '와이지-원', '두산', '상상인',\n",
       "       '한화에어로스페이스', 'NAVER', '하림지주', '금호에이치티', '삼성전자', '휠라홀딩스', '메리츠증권',\n",
       "       '메디쎄이', '미원홀딩스', '미원화학', '톱텍', 'KG스틸', 'TS인베스트먼트', 'KSS해운', '엠씨넥스',\n",
       "       'HD현대', '아이윈플러스', 'JW중외제약', '크레버스', '한화솔루션', '엔브이에이치코리아', '락앤락',\n",
       "       'MDS테크', '카나리아바이오', 'CJ ENM', '세종텔레콤', '미원상사', 'HL홀딩스', 'HL D&I',\n",
       "       '신한지주', '지엔씨에너지', 'POSCO홀딩스', '한중엔시에스', '아이마켓코리아'], dtype=object)"
      ]
     },
     "execution_count": 20,
     "metadata": {},
     "output_type": "execute_result"
    }
   ],
   "source": [
    "filtered_df['회사명'].unique()"
   ]
  }
 ],
 "metadata": {
  "kernelspec": {
   "display_name": "Python 3 (ipykernel)",
   "language": "python",
   "name": "python3"
  },
  "language_info": {
   "codemirror_mode": {
    "name": "ipython",
    "version": 3
   },
   "file_extension": ".py",
   "mimetype": "text/x-python",
   "name": "python",
   "nbconvert_exporter": "python",
   "pygments_lexer": "ipython3",
   "version": "3.9.15"
  }
 },
 "nbformat": 4,
 "nbformat_minor": 5
}
